{
 "cells": [
  {
   "cell_type": "markdown",
   "metadata": {},
   "source": [
    "# create keras model with 1 hidden layer of same size as input"
   ]
  },
  {
   "cell_type": "code",
   "execution_count": 1,
   "metadata": {},
   "outputs": [],
   "source": [
    "# TOFIX \n",
    "# (0) Unknown: Failed to get convolution algorithm. This is probably because cuDNN failed to initialize, so try looking to see if a warning log message was printed above.\n",
    "# Solution in: https://github.com/tensorflow/tensorflow/issues/24828\n",
    "import os\n",
    "os.environ[\"TF_FORCE_GPU_ALLOW_GROWTH\"]=\"true\""
   ]
  },
  {
   "cell_type": "code",
   "execution_count": 2,
   "metadata": {},
   "outputs": [],
   "source": [
    "import tensorflow.compat.v1 as tf"
   ]
  },
  {
   "cell_type": "code",
   "execution_count": 3,
   "metadata": {},
   "outputs": [],
   "source": [
    "# config = tf.ConfigProto()\n",
    "# config.gpu_options.allow_growth = True\n",
    "# sess = tf.Session(config=config)"
   ]
  },
  {
   "cell_type": "code",
   "execution_count": 4,
   "metadata": {},
   "outputs": [],
   "source": [
    "from tensorflow import keras"
   ]
  },
  {
   "cell_type": "code",
   "execution_count": 5,
   "metadata": {},
   "outputs": [
    {
     "name": "stdout",
     "output_type": "stream",
     "text": [
      "WARNING:tensorflow:From /home/giangblackk/miniconda3/envs/tf1/lib/python3.7/site-packages/tensorflow_core/python/ops/resource_variable_ops.py:1630: calling BaseResourceVariable.__init__ (from tensorflow.python.ops.resource_variable_ops) with constraint is deprecated and will be removed in a future version.\n",
      "Instructions for updating:\n",
      "If using Keras pass *_constraint arguments to layers.\n"
     ]
    }
   ],
   "source": [
    "model = keras.models.Sequential([\n",
    "    keras.layers.Conv2D(filters=10, kernel_size=1, input_shape=(1,1,10))\n",
    "])"
   ]
  },
  {
   "cell_type": "markdown",
   "metadata": {},
   "source": [
    "# compile and show model summary (Do I need to compile model?)"
   ]
  },
  {
   "cell_type": "code",
   "execution_count": 6,
   "metadata": {
    "scrolled": false
   },
   "outputs": [
    {
     "name": "stdout",
     "output_type": "stream",
     "text": [
      "Model: \"sequential\"\n",
      "_________________________________________________________________\n",
      "Layer (type)                 Output Shape              Param #   \n",
      "=================================================================\n",
      "conv2d (Conv2D)              (None, 1, 1, 10)          110       \n",
      "=================================================================\n",
      "Total params: 110\n",
      "Trainable params: 110\n",
      "Non-trainable params: 0\n",
      "_________________________________________________________________\n"
     ]
    }
   ],
   "source": [
    "model.compile(\n",
    "    optimizer=tf.keras.optimizers.Adam(),\n",
    "    loss=tf.keras.losses.cosine,\n",
    "    metrics=['accuracy']\n",
    ")\n",
    "model.summary()"
   ]
  },
  {
   "cell_type": "markdown",
   "metadata": {},
   "source": [
    "# predict on some inputs"
   ]
  },
  {
   "cell_type": "code",
   "execution_count": 7,
   "metadata": {
    "scrolled": false
   },
   "outputs": [
    {
     "data": {
      "text/plain": [
       "array([[[[-2.3906312 , -0.44901997, -0.82550603,  0.48844722,\n",
       "          -0.972329  , -0.8711493 , -0.659256  , -1.0125457 ,\n",
       "           0.68088347,  1.9050514 ]]],\n",
       "\n",
       "\n",
       "       [[[-2.3906312 , -0.44901997, -0.82550603,  0.48844722,\n",
       "          -0.972329  , -0.8711493 , -0.659256  , -1.0125457 ,\n",
       "           0.68088347,  1.9050514 ]]]], dtype=float32)"
      ]
     },
     "execution_count": 7,
     "metadata": {},
     "output_type": "execute_result"
    }
   ],
   "source": [
    "import numpy as np\n",
    "x = np.ones((2,10), dtype=np.float32).reshape(2,1,1,10)\n",
    "model.predict(x=x)"
   ]
  },
  {
   "cell_type": "markdown",
   "metadata": {},
   "source": [
    "# get model's layer's weights"
   ]
  },
  {
   "cell_type": "code",
   "execution_count": 8,
   "metadata": {},
   "outputs": [
    {
     "data": {
      "text/plain": [
       "[array([[[[-0.15053287, -0.26998153,  0.39287734,  0.18240607,\n",
       "           -0.42053258, -0.25637227, -0.19844729, -0.11023614,\n",
       "            0.52403355,  0.51810074],\n",
       "          [-0.4331238 ,  0.16207117, -0.3886429 ,  0.0289607 ,\n",
       "           -0.31068376, -0.5258798 , -0.05812842, -0.2965964 ,\n",
       "           -0.48082495,  0.37170327],\n",
       "          [-0.5220739 ,  0.00224346, -0.37051976, -0.06845486,\n",
       "           -0.52132356, -0.10841158, -0.52159244,  0.10140163,\n",
       "           -0.17957065,  0.23109084],\n",
       "          [-0.42687938, -0.19117123, -0.03836012,  0.17736334,\n",
       "            0.42864662, -0.48629773,  0.01950884,  0.11742014,\n",
       "           -0.09644026,  0.30683887],\n",
       "          [-0.28665844,  0.07926214,  0.34955633,  0.08781576,\n",
       "            0.30137497,  0.15698063, -0.14481813,  0.03726763,\n",
       "            0.10285336,  0.10013354],\n",
       "          [-0.41407686,  0.22930467,  0.17208421, -0.5359557 ,\n",
       "           -0.33217058,  0.05746293,  0.1183666 , -0.01634091,\n",
       "           -0.27730408,  0.02567399],\n",
       "          [ 0.47729707, -0.48096964, -0.50647295,  0.04359305,\n",
       "            0.23920226,  0.48090827, -0.02340525, -0.12260404,\n",
       "            0.51887965,  0.45602226],\n",
       "          [-0.39403942,  0.31903374, -0.05932605,  0.14021635,\n",
       "           -0.3621171 ,  0.15469587, -0.3418193 ,  0.2345689 ,\n",
       "           -0.11417568,  0.44784814],\n",
       "          [-0.3620539 , -0.34113735, -0.13918263, -0.07274351,\n",
       "            0.06667238, -0.16481403,  0.17236131, -0.44269872,\n",
       "            0.3684544 , -0.08992773],\n",
       "          [ 0.12151015,  0.0423246 , -0.2375195 ,  0.50524604,\n",
       "           -0.06139767, -0.17942163,  0.31871802, -0.5147278 ,\n",
       "            0.31497812, -0.46243253]]]], dtype=float32),\n",
       " array([0., 0., 0., 0., 0., 0., 0., 0., 0., 0.], dtype=float32)]"
      ]
     },
     "execution_count": 8,
     "metadata": {},
     "output_type": "execute_result"
    }
   ],
   "source": [
    "model.layers[0].get_weights()"
   ]
  },
  {
   "cell_type": "code",
   "execution_count": 9,
   "metadata": {},
   "outputs": [
    {
     "data": {
      "text/plain": [
       "(1, 1, 10, 10)"
      ]
     },
     "execution_count": 9,
     "metadata": {},
     "output_type": "execute_result"
    }
   ],
   "source": [
    "model.layers[0].get_weights()[0].shape"
   ]
  },
  {
   "cell_type": "code",
   "execution_count": 10,
   "metadata": {
    "scrolled": true
   },
   "outputs": [
    {
     "data": {
      "text/plain": [
       "(10,)"
      ]
     },
     "execution_count": 10,
     "metadata": {},
     "output_type": "execute_result"
    }
   ],
   "source": [
    "model.layers[0].get_weights()[1].shape"
   ]
  },
  {
   "cell_type": "markdown",
   "metadata": {},
   "source": [
    "# set weights to get identical model"
   ]
  },
  {
   "cell_type": "code",
   "execution_count": 11,
   "metadata": {},
   "outputs": [],
   "source": [
    "model.layers[0].set_weights([\n",
    "    np.identity(10, dtype=np.float32).reshape(1, 1, 10, 10),\n",
    "    np.full(10, 0.0001, dtype=np.float32)\n",
    "])"
   ]
  },
  {
   "cell_type": "markdown",
   "metadata": {},
   "source": [
    "# check weights agian"
   ]
  },
  {
   "cell_type": "code",
   "execution_count": 12,
   "metadata": {},
   "outputs": [
    {
     "data": {
      "text/plain": [
       "[array([[[[1., 0., 0., 0., 0., 0., 0., 0., 0., 0.],\n",
       "          [0., 1., 0., 0., 0., 0., 0., 0., 0., 0.],\n",
       "          [0., 0., 1., 0., 0., 0., 0., 0., 0., 0.],\n",
       "          [0., 0., 0., 1., 0., 0., 0., 0., 0., 0.],\n",
       "          [0., 0., 0., 0., 1., 0., 0., 0., 0., 0.],\n",
       "          [0., 0., 0., 0., 0., 1., 0., 0., 0., 0.],\n",
       "          [0., 0., 0., 0., 0., 0., 1., 0., 0., 0.],\n",
       "          [0., 0., 0., 0., 0., 0., 0., 1., 0., 0.],\n",
       "          [0., 0., 0., 0., 0., 0., 0., 0., 1., 0.],\n",
       "          [0., 0., 0., 0., 0., 0., 0., 0., 0., 1.]]]], dtype=float32),\n",
       " array([1.e-04, 1.e-04, 1.e-04, 1.e-04, 1.e-04, 1.e-04, 1.e-04, 1.e-04,\n",
       "        1.e-04, 1.e-04], dtype=float32)]"
      ]
     },
     "execution_count": 12,
     "metadata": {},
     "output_type": "execute_result"
    }
   ],
   "source": [
    "model.layers[0].get_weights()"
   ]
  },
  {
   "cell_type": "markdown",
   "metadata": {},
   "source": [
    "# check prediction"
   ]
  },
  {
   "cell_type": "code",
   "execution_count": 13,
   "metadata": {},
   "outputs": [
    {
     "data": {
      "text/plain": [
       "array([[[[1.0001, 1.0001, 1.0001, 1.0001, 1.0001, 1.0001, 1.0001,\n",
       "          1.0001, 1.0001, 1.0001]]],\n",
       "\n",
       "\n",
       "       [[[1.0001, 1.0001, 1.0001, 1.0001, 1.0001, 1.0001, 1.0001,\n",
       "          1.0001, 1.0001, 1.0001]]]], dtype=float32)"
      ]
     },
     "execution_count": 13,
     "metadata": {},
     "output_type": "execute_result"
    }
   ],
   "source": [
    "model.predict(x)"
   ]
  },
  {
   "cell_type": "code",
   "execution_count": 14,
   "metadata": {
    "scrolled": true
   },
   "outputs": [
    {
     "data": {
      "text/plain": [
       "array([[[[1., 1., 1., 1., 1., 1., 1., 1., 1., 1.]]],\n",
       "\n",
       "\n",
       "       [[[1., 1., 1., 1., 1., 1., 1., 1., 1., 1.]]]], dtype=float32)"
      ]
     },
     "execution_count": 14,
     "metadata": {},
     "output_type": "execute_result"
    }
   ],
   "source": [
    "x"
   ]
  },
  {
   "cell_type": "markdown",
   "metadata": {},
   "source": [
    "# save model"
   ]
  },
  {
   "cell_type": "code",
   "execution_count": 15,
   "metadata": {},
   "outputs": [],
   "source": [
    "tf_session = keras.backend.get_session()\n",
    "\n",
    "# write out tensorflow checkpoint & meta graph\n",
    "saver = tf.train.Saver()"
   ]
  },
  {
   "cell_type": "code",
   "execution_count": 16,
   "metadata": {},
   "outputs": [],
   "source": [
    "save_path = saver.save(tf_session,\"conv_identical/conv_identical.ckpt\")"
   ]
  },
  {
   "cell_type": "markdown",
   "metadata": {},
   "source": [
    "# save model as an HDF5 file"
   ]
  },
  {
   "cell_type": "code",
   "execution_count": 17,
   "metadata": {},
   "outputs": [],
   "source": [
    "model.save('conv_identical/conv_identical.h5')"
   ]
  },
  {
   "cell_type": "markdown",
   "metadata": {},
   "source": [
    "# freeze saved model"
   ]
  },
  {
   "cell_type": "code",
   "execution_count": 18,
   "metadata": {},
   "outputs": [
    {
     "data": {
      "text/plain": [
       "[<tf.Tensor 'conv2d/BiasAdd:0' shape=(?, 1, 1, 10) dtype=float32>]"
      ]
     },
     "execution_count": 18,
     "metadata": {},
     "output_type": "execute_result"
    }
   ],
   "source": [
    "model.outputs"
   ]
  },
  {
   "cell_type": "code",
   "execution_count": 19,
   "metadata": {},
   "outputs": [
    {
     "name": "stdout",
     "output_type": "stream",
     "text": [
      "Loaded meta graph file 'conv_identical/conv_identical.ckpt.meta\n",
      "WARNING:tensorflow:From freeze_graph.py:129: checkpoint_exists (from tensorflow.python.training.checkpoint_management) is deprecated and will be removed in a future version.\n",
      "Instructions for updating:\n",
      "Use standard file APIs to check for files with this prefix.\n",
      "W1203 08:57:45.639789 140044863121216 deprecation.py:323] From freeze_graph.py:129: checkpoint_exists (from tensorflow.python.training.checkpoint_management) is deprecated and will be removed in a future version.\n",
      "Instructions for updating:\n",
      "Use standard file APIs to check for files with this prefix.\n",
      "2020-12-03 08:57:45.642804: I tensorflow/stream_executor/platform/default/dso_loader.cc:44] Successfully opened dynamic library libcuda.so.1\n",
      "2020-12-03 08:57:45.672631: E tensorflow/stream_executor/cuda/cuda_driver.cc:318] failed call to cuInit: CUDA_ERROR_NO_DEVICE: no CUDA-capable device is detected\n",
      "2020-12-03 08:57:45.672733: I tensorflow/stream_executor/cuda/cuda_diagnostics.cc:169] retrieving CUDA diagnostic information for host: giangblackk-HP\n",
      "2020-12-03 08:57:45.672763: I tensorflow/stream_executor/cuda/cuda_diagnostics.cc:176] hostname: giangblackk-HP\n",
      "2020-12-03 08:57:45.672888: I tensorflow/stream_executor/cuda/cuda_diagnostics.cc:200] libcuda reported version is: 455.38.0\n",
      "2020-12-03 08:57:45.672957: I tensorflow/stream_executor/cuda/cuda_diagnostics.cc:204] kernel reported version is: 455.38.0\n",
      "2020-12-03 08:57:45.672980: I tensorflow/stream_executor/cuda/cuda_diagnostics.cc:310] kernel version seems to match DSO: 455.38.0\n",
      "2020-12-03 08:57:45.674146: I tensorflow/core/platform/cpu_feature_guard.cc:142] Your CPU supports instructions that this TensorFlow binary was not compiled to use: SSE4.1 SSE4.2 AVX AVX2 FMA\n",
      "2020-12-03 08:57:45.689118: I tensorflow/core/platform/profile_utils/cpu_utils.cc:94] CPU Frequency: 2400000000 Hz\n",
      "2020-12-03 08:57:45.690033: I tensorflow/compiler/xla/service/service.cc:168] XLA service 0x56105d903770 initialized for platform Host (this does not guarantee that XLA will be used). Devices:\n",
      "2020-12-03 08:57:45.690120: I tensorflow/compiler/xla/service/service.cc:176]   StreamExecutor device (0): Host, Default Version\n",
      "INFO:tensorflow:Restoring parameters from conv_identical/conv_identical.ckpt\n",
      "I1203 08:57:45.723798 140044863121216 saver.py:1284] Restoring parameters from conv_identical/conv_identical.ckpt\n",
      "WARNING:tensorflow:From freeze_graph.py:238: convert_variables_to_constants (from tensorflow.python.framework.graph_util_impl) is deprecated and will be removed in a future version.\n",
      "Instructions for updating:\n",
      "Use `tf.compat.v1.graph_util.convert_variables_to_constants`\n",
      "W1203 08:57:46.011780 140044863121216 deprecation.py:323] From freeze_graph.py:238: convert_variables_to_constants (from tensorflow.python.framework.graph_util_impl) is deprecated and will be removed in a future version.\n",
      "Instructions for updating:\n",
      "Use `tf.compat.v1.graph_util.convert_variables_to_constants`\n",
      "WARNING:tensorflow:From /home/giangblackk/miniconda3/envs/tf1/lib/python3.7/site-packages/tensorflow_core/python/framework/graph_util_impl.py:277: extract_sub_graph (from tensorflow.python.framework.graph_util_impl) is deprecated and will be removed in a future version.\n",
      "Instructions for updating:\n",
      "Use `tf.compat.v1.graph_util.extract_sub_graph`\n",
      "W1203 08:57:46.012198 140044863121216 deprecation.py:323] From /home/giangblackk/miniconda3/envs/tf1/lib/python3.7/site-packages/tensorflow_core/python/framework/graph_util_impl.py:277: extract_sub_graph (from tensorflow.python.framework.graph_util_impl) is deprecated and will be removed in a future version.\n",
      "Instructions for updating:\n",
      "Use `tf.compat.v1.graph_util.extract_sub_graph`\n",
      "INFO:tensorflow:Froze 2 variables.\n",
      "I1203 08:57:46.029165 140044863121216 graph_util_impl.py:334] Froze 2 variables.\n",
      "INFO:tensorflow:Converted 2 variables to const ops.\n",
      "I1203 08:57:46.031198 140044863121216 graph_util_impl.py:394] Converted 2 variables to const ops.\n"
     ]
    }
   ],
   "source": [
    "!CUDA_VISIBLE_DEVICES=-1 python freeze_graph.py \\\n",
    "    --input_meta_graph conv_identical/conv_identical.ckpt.meta \\\n",
    "    --input_checkpoint conv_identical/conv_identical.ckpt \\\n",
    "    --output_graph conv_identical/conv_identical.pb \\\n",
    "    --output_node_names=conv2d/BiasAdd \\\n",
    "    --input_binary=true"
   ]
  }
 ],
 "metadata": {
  "kernelspec": {
   "display_name": "Python 3",
   "language": "python",
   "name": "python3"
  },
  "language_info": {
   "codemirror_mode": {
    "name": "ipython",
    "version": 3
   },
   "file_extension": ".py",
   "mimetype": "text/x-python",
   "name": "python",
   "nbconvert_exporter": "python",
   "pygments_lexer": "ipython3",
   "version": "3.7.9"
  }
 },
 "nbformat": 4,
 "nbformat_minor": 4
}
